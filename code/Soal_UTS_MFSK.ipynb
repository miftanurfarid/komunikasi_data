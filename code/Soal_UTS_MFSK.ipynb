{
 "cells": [
  {
   "cell_type": "code",
   "execution_count": 18,
   "id": "6d198354",
   "metadata": {},
   "outputs": [],
   "source": [
    "fc = 500\n",
    "fd = 25\n",
    "L = 4"
   ]
  },
  {
   "cell_type": "code",
   "execution_count": 19,
   "id": "562604f6",
   "metadata": {},
   "outputs": [],
   "source": [
    "def doMFSK(fc,fd,L):\n",
    "    import numpy as np\n",
    "    M = 2**L\n",
    "    f = np.array([])\n",
    "    for i in range(1,M+1):\n",
    "        fi = fc + (2*i-1-M)*fd\n",
    "        f  = np.append(f,fi)\n",
    "    return f"
   ]
  },
  {
   "cell_type": "code",
   "execution_count": 23,
   "id": "d85ffd73",
   "metadata": {},
   "outputs": [
    {
     "data": {
      "text/plain": [
       "array([125., 175., 225., 275., 325., 375., 425., 475., 525., 575., 625.,\n",
       "       675., 725., 775., 825., 875.])"
      ]
     },
     "execution_count": 23,
     "metadata": {},
     "output_type": "execute_result"
    }
   ],
   "source": [
    "f = doMFSK(fc,fd,L)\n",
    "f"
   ]
  },
  {
   "cell_type": "code",
   "execution_count": 24,
   "id": "2d076743",
   "metadata": {},
   "outputs": [
    {
     "data": {
      "text/plain": [
       "16"
      ]
     },
     "execution_count": 24,
     "metadata": {},
     "output_type": "execute_result"
    }
   ],
   "source": [
    "len(f)"
   ]
  },
  {
   "cell_type": "code",
   "execution_count": 25,
   "id": "ee466f20",
   "metadata": {},
   "outputs": [
    {
     "data": {
      "text/plain": [
       "array([125., 175., 225., 275., 325., 375., 425., 475., 525., 575., 625.,\n",
       "       675., 725., 775., 825., 875.])"
      ]
     },
     "execution_count": 25,
     "metadata": {},
     "output_type": "execute_result"
    }
   ],
   "source": [
    "np.transpose(f)"
   ]
  },
  {
   "cell_type": "code",
   "execution_count": null,
   "id": "8ce5790e",
   "metadata": {},
   "outputs": [],
   "source": []
  }
 ],
 "metadata": {
  "kernelspec": {
   "display_name": "Python 3 (ipykernel)",
   "language": "python",
   "name": "python3"
  },
  "language_info": {
   "codemirror_mode": {
    "name": "ipython",
    "version": 3
   },
   "file_extension": ".py",
   "mimetype": "text/x-python",
   "name": "python",
   "nbconvert_exporter": "python",
   "pygments_lexer": "ipython3",
   "version": "3.10.4"
  }
 },
 "nbformat": 4,
 "nbformat_minor": 5
}
